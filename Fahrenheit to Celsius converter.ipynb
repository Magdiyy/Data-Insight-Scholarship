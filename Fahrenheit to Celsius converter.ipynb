{
 "cells": [
  {
   "cell_type": "code",
   "execution_count": null,
   "id": "033c4526",
   "metadata": {},
   "outputs": [],
   "source": [
    "temp = float(input(\"Enter a temperature in Fahrenheit: \"))\n",
    "\n",
    "celsius = (temp - 32) * 5/9\n",
    "\n",
    "print(\"Temperature {} in Fahrenheit is equal to {} in Celsius\".format(temp, celsius))"
   ]
  }
 ],
 "metadata": {
  "kernelspec": {
   "display_name": "Python 3",
   "language": "python",
   "name": "python3"
  },
  "language_info": {
   "codemirror_mode": {
    "name": "ipython",
    "version": 3
   },
   "file_extension": ".py",
   "mimetype": "text/x-python",
   "name": "python",
   "nbconvert_exporter": "python",
   "pygments_lexer": "ipython3",
   "version": "3.8.8"
  }
 },
 "nbformat": 4,
 "nbformat_minor": 5
}
