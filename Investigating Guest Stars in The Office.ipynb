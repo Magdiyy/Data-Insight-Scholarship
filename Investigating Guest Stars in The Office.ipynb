{
 "cells": [
  {
   "cell_type": "markdown",
   "metadata": {
    "dc": {
     "key": "4"
    },
    "deletable": false,
    "editable": false,
    "run_control": {
     "frozen": true
    },
    "tags": [
     "context"
    ]
   },
   "source": [
    "## 1. Welcome!\n",
    "<p><img src=\"https://assets.datacamp.com/production/project_1170/img/office_cast.jpeg\" alt=\"Markdown\">.</p>\n",
    "<p><strong>The Office!</strong> What started as a British mockumentary series about office culture in 2001 has since spawned ten other variants across the world, including an Israeli version (2010-13), a Hindi version (2019-), and even a French Canadian variant (2006-2007). Of all these iterations (including the original), the American series has been the longest-running, spanning 201 episodes over nine seasons.</p>\n",
    "<p>In this notebook, we will take a look at a dataset of The Office episodes, and try to understand how the popularity and quality of the series varied over time. To do so, we will use the following dataset: <code>datasets/office_episodes.csv</code>, which was downloaded from Kaggle <a href=\"https://www.kaggle.com/nehaprabhavalkar/the-office-dataset\">here</a>.</p>\n",
    "<p>This dataset contains information on a variety of characteristics of each episode. In detail, these are:\n",
    "<br></p>\n",
    "<div style=\"background-color: #efebe4; color: #05192d; text-align:left; vertical-align: middle; padding: 15px 25px 15px 25px; line-height: 1.6;\">\n",
    "    <div style=\"font-size:20px\"><b>datasets/office_episodes.csv</b></div>\n",
    "<ul>\n",
    "    <li><b>episode_number:</b> Canonical episode number.</li>\n",
    "    <li><b>season:</b> Season in which the episode appeared.</li>\n",
    "    <li><b>episode_title:</b> Title of the episode.</li>\n",
    "    <li><b>description:</b> Description of the episode.</li>\n",
    "    <li><b>ratings:</b> Average IMDB rating.</li>\n",
    "    <li><b>votes:</b> Number of votes.</li>\n",
    "    <li><b>viewership_mil:</b> Number of US viewers in millions.</li>\n",
    "    <li><b>duration:</b> Duration in number of minutes.</li>\n",
    "    <li><b>release_date:</b> Airdate.</li>\n",
    "    <li><b>guest_stars:</b> Guest stars in the episode (if any).</li>\n",
    "    <li><b>director:</b> Director of the episode.</li>\n",
    "    <li><b>writers:</b> Writers of the episode.</li>\n",
    "    <li><b>has_guests:</b> True/False column for whether the episode contained guest stars.</li>\n",
    "    <li><b>scaled_ratings:</b> The ratings scaled from 0 (worst-reviewed) to 1 (best-reviewed).</li>\n",
    "</ul>\n",
    "    </div>"
   ]
  },
  {
   "cell_type": "code",
   "execution_count": 1,
   "metadata": {
    "dc": {
     "key": "4"
    },
    "tags": [
     "sample_code"
    ]
   },
   "outputs": [],
   "source": [
    "# Use this cell to begin your analysis, and add as many as you would like!\n",
    "import matplotlib.pyplot as plt\n",
    "import pandas as pd"
   ]
  },
  {
   "cell_type": "code",
   "execution_count": 2,
   "metadata": {
    "dc": {
     "key": "4"
    },
    "scrolled": false
   },
   "outputs": [
    {
     "data": {
      "text/html": [
       "<div>\n",
       "<style scoped>\n",
       "    .dataframe tbody tr th:only-of-type {\n",
       "        vertical-align: middle;\n",
       "    }\n",
       "\n",
       "    .dataframe tbody tr th {\n",
       "        vertical-align: top;\n",
       "    }\n",
       "\n",
       "    .dataframe thead th {\n",
       "        text-align: right;\n",
       "    }\n",
       "</style>\n",
       "<table border=\"1\" class=\"dataframe\">\n",
       "  <thead>\n",
       "    <tr style=\"text-align: right;\">\n",
       "      <th></th>\n",
       "      <th>episode_number</th>\n",
       "      <th>season</th>\n",
       "      <th>episode_title</th>\n",
       "      <th>description</th>\n",
       "      <th>ratings</th>\n",
       "      <th>votes</th>\n",
       "      <th>viewership_mil</th>\n",
       "      <th>duration</th>\n",
       "      <th>release_date</th>\n",
       "      <th>guest_stars</th>\n",
       "      <th>director</th>\n",
       "      <th>writers</th>\n",
       "      <th>has_guests</th>\n",
       "      <th>scaled_ratings</th>\n",
       "    </tr>\n",
       "  </thead>\n",
       "  <tbody>\n",
       "    <tr>\n",
       "      <th>0</th>\n",
       "      <td>0</td>\n",
       "      <td>1</td>\n",
       "      <td>Pilot</td>\n",
       "      <td>The premiere episode introduces the boss and s...</td>\n",
       "      <td>7.5</td>\n",
       "      <td>4936</td>\n",
       "      <td>11.2</td>\n",
       "      <td>23</td>\n",
       "      <td>2005-03-24</td>\n",
       "      <td>NaN</td>\n",
       "      <td>Ken Kwapis</td>\n",
       "      <td>Ricky Gervais |Stephen Merchant and Greg Daniels</td>\n",
       "      <td>False</td>\n",
       "      <td>0.28125</td>\n",
       "    </tr>\n",
       "    <tr>\n",
       "      <th>1</th>\n",
       "      <td>1</td>\n",
       "      <td>1</td>\n",
       "      <td>Diversity Day</td>\n",
       "      <td>Michael's off color remark puts a sensitivity ...</td>\n",
       "      <td>8.3</td>\n",
       "      <td>4801</td>\n",
       "      <td>6.0</td>\n",
       "      <td>23</td>\n",
       "      <td>2005-03-29</td>\n",
       "      <td>NaN</td>\n",
       "      <td>Ken Kwapis</td>\n",
       "      <td>B. J. Novak</td>\n",
       "      <td>False</td>\n",
       "      <td>0.53125</td>\n",
       "    </tr>\n",
       "    <tr>\n",
       "      <th>2</th>\n",
       "      <td>2</td>\n",
       "      <td>1</td>\n",
       "      <td>Health Care</td>\n",
       "      <td>Michael leaves Dwight in charge of picking the...</td>\n",
       "      <td>7.8</td>\n",
       "      <td>4024</td>\n",
       "      <td>5.8</td>\n",
       "      <td>22</td>\n",
       "      <td>2005-04-05</td>\n",
       "      <td>NaN</td>\n",
       "      <td>Ken Whittingham</td>\n",
       "      <td>Paul Lieberstein</td>\n",
       "      <td>False</td>\n",
       "      <td>0.37500</td>\n",
       "    </tr>\n",
       "    <tr>\n",
       "      <th>3</th>\n",
       "      <td>3</td>\n",
       "      <td>1</td>\n",
       "      <td>The Alliance</td>\n",
       "      <td>Just for a laugh, Jim agrees to an alliance wi...</td>\n",
       "      <td>8.1</td>\n",
       "      <td>3915</td>\n",
       "      <td>5.4</td>\n",
       "      <td>23</td>\n",
       "      <td>2005-04-12</td>\n",
       "      <td>NaN</td>\n",
       "      <td>Bryan Gordon</td>\n",
       "      <td>Michael Schur</td>\n",
       "      <td>False</td>\n",
       "      <td>0.46875</td>\n",
       "    </tr>\n",
       "    <tr>\n",
       "      <th>4</th>\n",
       "      <td>4</td>\n",
       "      <td>1</td>\n",
       "      <td>Basketball</td>\n",
       "      <td>Michael and his staff challenge the warehouse ...</td>\n",
       "      <td>8.4</td>\n",
       "      <td>4294</td>\n",
       "      <td>5.0</td>\n",
       "      <td>23</td>\n",
       "      <td>2005-04-19</td>\n",
       "      <td>NaN</td>\n",
       "      <td>Greg Daniels</td>\n",
       "      <td>Greg Daniels</td>\n",
       "      <td>False</td>\n",
       "      <td>0.56250</td>\n",
       "    </tr>\n",
       "  </tbody>\n",
       "</table>\n",
       "</div>"
      ],
      "text/plain": [
       "   episode_number  season  episode_title  \\\n",
       "0               0       1          Pilot   \n",
       "1               1       1  Diversity Day   \n",
       "2               2       1    Health Care   \n",
       "3               3       1   The Alliance   \n",
       "4               4       1     Basketball   \n",
       "\n",
       "                                         description  ratings  votes  \\\n",
       "0  The premiere episode introduces the boss and s...      7.5   4936   \n",
       "1  Michael's off color remark puts a sensitivity ...      8.3   4801   \n",
       "2  Michael leaves Dwight in charge of picking the...      7.8   4024   \n",
       "3  Just for a laugh, Jim agrees to an alliance wi...      8.1   3915   \n",
       "4  Michael and his staff challenge the warehouse ...      8.4   4294   \n",
       "\n",
       "   viewership_mil  duration release_date guest_stars         director  \\\n",
       "0            11.2        23   2005-03-24         NaN       Ken Kwapis   \n",
       "1             6.0        23   2005-03-29         NaN       Ken Kwapis   \n",
       "2             5.8        22   2005-04-05         NaN  Ken Whittingham   \n",
       "3             5.4        23   2005-04-12         NaN     Bryan Gordon   \n",
       "4             5.0        23   2005-04-19         NaN     Greg Daniels   \n",
       "\n",
       "                                            writers  has_guests  \\\n",
       "0  Ricky Gervais |Stephen Merchant and Greg Daniels       False   \n",
       "1                                       B. J. Novak       False   \n",
       "2                                  Paul Lieberstein       False   \n",
       "3                                     Michael Schur       False   \n",
       "4                                      Greg Daniels       False   \n",
       "\n",
       "   scaled_ratings  \n",
       "0         0.28125  \n",
       "1         0.53125  \n",
       "2         0.37500  \n",
       "3         0.46875  \n",
       "4         0.56250  "
      ]
     },
     "execution_count": 2,
     "metadata": {},
     "output_type": "execute_result"
    }
   ],
   "source": [
    "df = pd.read_csv(\"datasets/office_episodes.csv\")\n",
    "df.head()"
   ]
  },
  {
   "cell_type": "code",
   "execution_count": 3,
   "metadata": {},
   "outputs": [
    {
     "data": {
      "text/plain": [
       "(188, 14)"
      ]
     },
     "execution_count": 3,
     "metadata": {},
     "output_type": "execute_result"
    }
   ],
   "source": [
    "df.shape"
   ]
  },
  {
   "cell_type": "code",
   "execution_count": 4,
   "metadata": {},
   "outputs": [
    {
     "data": {
      "text/plain": [
       "Index(['episode_number', 'season', 'episode_title', 'description', 'ratings',\n",
       "       'votes', 'viewership_mil', 'duration', 'release_date', 'guest_stars',\n",
       "       'director', 'writers', 'has_guests', 'scaled_ratings'],\n",
       "      dtype='object')"
      ]
     },
     "execution_count": 4,
     "metadata": {},
     "output_type": "execute_result"
    }
   ],
   "source": [
    "df.columns"
   ]
  },
  {
   "cell_type": "code",
   "execution_count": 5,
   "metadata": {
    "dc": {
     "key": "4"
    }
   },
   "outputs": [
    {
     "name": "stdout",
     "output_type": "stream",
     "text": [
      "<class 'pandas.core.frame.DataFrame'>\n",
      "RangeIndex: 188 entries, 0 to 187\n",
      "Data columns (total 14 columns):\n",
      " #   Column          Non-Null Count  Dtype  \n",
      "---  ------          --------------  -----  \n",
      " 0   episode_number  188 non-null    int64  \n",
      " 1   season          188 non-null    int64  \n",
      " 2   episode_title   188 non-null    object \n",
      " 3   description     188 non-null    object \n",
      " 4   ratings         188 non-null    float64\n",
      " 5   votes           188 non-null    int64  \n",
      " 6   viewership_mil  188 non-null    float64\n",
      " 7   duration        188 non-null    int64  \n",
      " 8   release_date    188 non-null    object \n",
      " 9   guest_stars     29 non-null     object \n",
      " 10  director        188 non-null    object \n",
      " 11  writers         188 non-null    object \n",
      " 12  has_guests      188 non-null    bool   \n",
      " 13  scaled_ratings  188 non-null    float64\n",
      "dtypes: bool(1), float64(3), int64(4), object(6)\n",
      "memory usage: 19.4+ KB\n"
     ]
    }
   ],
   "source": [
    "df.info()"
   ]
  },
  {
   "cell_type": "code",
   "execution_count": 6,
   "metadata": {
    "dc": {
     "key": "4"
    }
   },
   "outputs": [
    {
     "name": "stdout",
     "output_type": "stream",
     "text": [
      "<class 'pandas.core.frame.DataFrame'>\n",
      "RangeIndex: 188 entries, 0 to 187\n",
      "Data columns (total 14 columns):\n",
      " #   Column          Non-Null Count  Dtype         \n",
      "---  ------          --------------  -----         \n",
      " 0   episode_number  188 non-null    int64         \n",
      " 1   season          188 non-null    int64         \n",
      " 2   episode_title   188 non-null    object        \n",
      " 3   description     188 non-null    object        \n",
      " 4   ratings         188 non-null    float64       \n",
      " 5   votes           188 non-null    int64         \n",
      " 6   viewership_mil  188 non-null    float64       \n",
      " 7   duration        188 non-null    int64         \n",
      " 8   release_date    188 non-null    datetime64[ns]\n",
      " 9   guest_stars     29 non-null     object        \n",
      " 10  director        188 non-null    object        \n",
      " 11  writers         188 non-null    object        \n",
      " 12  has_guests      188 non-null    bool          \n",
      " 13  scaled_ratings  188 non-null    float64       \n",
      "dtypes: bool(1), datetime64[ns](1), float64(3), int64(4), object(5)\n",
      "memory usage: 19.4+ KB\n"
     ]
    }
   ],
   "source": [
    "df.release_date = pd.to_datetime(df[\"release_date\"])\n",
    "df.info()"
   ]
  },
  {
   "cell_type": "code",
   "execution_count": 8,
   "metadata": {},
   "outputs": [
    {
     "data": {
      "image/png": "[encoded data removed]",
      "text/plain": [
       "<Figure size 792x504 with 1 Axes>"
      ]
     },
     "metadata": {
      "needs_background": "light"
     },
     "output_type": "display_data"
    }
   ],
   "source": [
    "plt.rcParams['figure.figsize'] = [11, 7]\n",
    "fig = plt.figure()\n",
    "plt.scatter(x=df.episode_number, y=df.viewership_mil)\n",
    "plt.show()"
   ]
  },
  {
   "cell_type": "code",
   "execution_count": 10,
   "metadata": {
    "dc": {
     "key": "4"
    },
    "scrolled": true
   },
   "outputs": [],
   "source": [
    "cols = []\n",
    "for i, row in df.iterrows():\n",
    "    if row['scaled_ratings'] < 0.25:\n",
    "        cols.append(\"blue\")\n",
    "    elif row['scaled_ratings'] < 0.5:\n",
    "        cols.append(\"cyan\")\n",
    "    elif row['scaled_ratings'] < 0.75:\n",
    "        cols.append(\"dimgray\")\n",
    "    else:\n",
    "        cols.append(\"purple\")"
   ]
  },
  {
   "cell_type": "code",
   "execution_count": 26,
   "metadata": {},
   "outputs": [
    {
     "data": {
      "text/plain": [
       "['purple',\n",
       " 'dimgray',\n",
       " 'cyan',\n",
       " 'cyan',\n",
       " 'purple',\n",
       " 'purple',\n",
       " 'cyan',\n",
       " 'dimgray',\n",
       " 'cyan',\n",
       " 'cyan',\n",
       " 'dimgray',\n",
       " 'cyan',\n",
       " 'dimgray',\n",
       " 'dimgray',\n",
       " 'blue',\n",
       " 'cyan',\n",
       " 'cyan',\n",
       " 'dimgray',\n",
       " 'dimgray',\n",
       " 'cyan']"
      ]
     },
     "execution_count": 26,
     "metadata": {},
     "output_type": "execute_result"
    }
   ],
   "source": [
    "cols[90:110]"
   ]
  },
  {
   "cell_type": "code",
   "execution_count": 11,
   "metadata": {
    "dc": {
     "key": "4"
    }
   },
   "outputs": [],
   "source": [
    "sizes=[]\n",
    "for i, row in df.iterrows():\n",
    "    if row[\"has_guests\"] == False:\n",
    "        sizes.append(25)\n",
    "    else:\n",
    "        sizes.append(250)"
   ]
  },
  {
   "cell_type": "code",
   "execution_count": 27,
   "metadata": {
    "dc": {
     "key": "4"
    }
   },
   "outputs": [],
   "source": [
    "df[\"colors\"] = cols\n",
    "df[\"sizes\"] = sizes\n",
    "\n",
    "no_guests = df[df[\"has_guests\"] == False]\n",
    "with_guests = df[df[\"has_guests\"] == True]"
   ]
  },
  {
   "cell_type": "code",
   "execution_count": 22,
   "metadata": {
    "dc": {
     "key": "4"
    },
    "scrolled": false
   },
   "outputs": [
    {
     "data": {
      "image/png": "[encoded data removed]",
      "text/plain": [
       "<Figure size 792x504 with 1 Axes>"
      ]
     },
     "metadata": {},
     "output_type": "display_data"
    }
   ],
   "source": [
    "plt.rcParams['figure.figsize'] = [11, 7]\n",
    "fig = plt.figure()\n",
    "plt.style.use(\"fivethirtyeight\")\n",
    "\n",
    "_ = plt.scatter(x=with_guests.episode_number, \n",
    "                y=with_guests.viewership_mil, \n",
    "                c=with_guests.colors, \n",
    "                s=with_guests.sizes, \n",
    "                marker='*'\n",
    "               )\n",
    "_ = plt.scatter(x=no_guests.episode_number, \n",
    "                y=no_guests.viewership_mil, \n",
    "                c=no_guests.colors, \n",
    "                s=no_guests.sizes\n",
    "                )\n",
    "_ = plt.xlabel(\"Episode Number\")\n",
    "_ = plt.ylabel(\"Viewership (Millions)\")\n",
    "_ = plt.title(\"Popularity, Quality, and Guest Appearances on the Office\") \n",
    "\n",
    "plt.show()"
   ]
  },
  {
   "cell_type": "code",
   "execution_count": 18,
   "metadata": {
    "dc": {
     "key": "4"
    }
   },
   "outputs": [
    {
     "data": {
      "text/plain": [
       "77    Cloris Leachman, Jack Black, Jessica Alba\n",
       "Name: guest_stars, dtype: object"
      ]
     },
     "execution_count": 18,
     "metadata": {},
     "output_type": "execute_result"
    }
   ],
   "source": [
    "df.head(1)\n",
    "df[df.viewership_mil > 22 ].guest_stars\n",
    "top_star = \"Jessica Alba\""
   ]
  }
 ],
 "metadata": {
  "kernelspec": {
   "display_name": "Python 3",
   "language": "python",
   "name": "python3"
  },
  "language_info": {
   "codemirror_mode": {
    "name": "ipython",
    "version": 3
   },
   "file_extension": ".py",
   "mimetype": "text/x-python",
   "name": "python",
   "nbconvert_exporter": "python",
   "pygments_lexer": "ipython3",
   "version": "3.8.8"
  }
 },
 "nbformat": 4,
 "nbformat_minor": 2
}
